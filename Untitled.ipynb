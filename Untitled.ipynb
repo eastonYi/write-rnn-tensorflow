{
 "cells": [
  {
   "cell_type": "code",
   "execution_count": 1,
   "metadata": {
    "collapsed": true,
    "scrolled": true
   },
   "outputs": [],
   "source": [
    "import numpy as np\n",
    "import time\n",
    "import os\n",
    "import pickle\n",
    "import matplotlib.pyplot as plt\n",
    "\n",
    "from utils import DataLoader\n",
    "\n",
    "%matplotlib inline"
   ]
  },
  {
   "cell_type": "code",
   "execution_count": 2,
   "metadata": {},
   "outputs": [
    {
     "name": "stdout",
     "output_type": "stream",
     "text": [
      "creating training data pkl file from raw source\n",
      "processing /home/easton/Data/lineStrokes_demo/a02/a02-120/a02-120-04.xml\n",
      "processing /home/easton/Data/lineStrokes_demo/a02/a02-120/a02-120-01.xml\n",
      "processing /home/easton/Data/lineStrokes_demo/a02/a02-120/a02-120-02.xml\n",
      "processing /home/easton/Data/lineStrokes_demo/a02/a02-120/a02-120-03.xml\n",
      "processing /home/easton/Data/lineStrokes_demo/a02/a02-037/a02-037-02.xml\n",
      "processing /home/easton/Data/lineStrokes_demo/a02/a02-037/a02-037-04.xml\n",
      "processing /home/easton/Data/lineStrokes_demo/a02/a02-037/a02-037-01.xml\n",
      "processing /home/easton/Data/lineStrokes_demo/a02/a02-037/a02-037-08.xml\n",
      "processing /home/easton/Data/lineStrokes_demo/a02/a02-037/a02-037-09.xml\n",
      "processing /home/easton/Data/lineStrokes_demo/a02/a02-037/a02-037-05.xml\n",
      "processing /home/easton/Data/lineStrokes_demo/a02/a02-037/a02-037-06.xml\n",
      "processing /home/easton/Data/lineStrokes_demo/a02/a02-037/a02-037-07.xml\n",
      "processing /home/easton/Data/lineStrokes_demo/a02/a02-037/a02-037-03.xml\n",
      "processing /home/easton/Data/lineStrokes_demo/a02/a02-050/a02-050-05.xml\n",
      "processing /home/easton/Data/lineStrokes_demo/a02/a02-050/a02-050-08.xml\n",
      "processing /home/easton/Data/lineStrokes_demo/a02/a02-050/a02-050-03.xml\n",
      "processing /home/easton/Data/lineStrokes_demo/a02/a02-050/a02-050-01.xml\n",
      "processing /home/easton/Data/lineStrokes_demo/a02/a02-050/a02-050-06.xml\n",
      "processing /home/easton/Data/lineStrokes_demo/a02/a02-050/a02-050-07.xml\n",
      "processing /home/easton/Data/lineStrokes_demo/a02/a02-050/a02-050-02.xml\n",
      "processing /home/easton/Data/lineStrokes_demo/a02/a02-050/a02-050-04.xml\n",
      "processing /home/easton/Data/lineStrokes_demo/a02/a02-125/a02-125z-09.xml\n",
      "processing /home/easton/Data/lineStrokes_demo/a02/a02-125/a02-125z-10.xml\n",
      "processing /home/easton/Data/lineStrokes_demo/a02/a02-125/a02-125z-03.xml\n",
      "processing /home/easton/Data/lineStrokes_demo/a02/a02-125/a02-125z-06.xml\n",
      "processing /home/easton/Data/lineStrokes_demo/a02/a02-125/a02-125z-01.xml\n",
      "processing /home/easton/Data/lineStrokes_demo/a02/a02-125/a02-125z-08.xml\n",
      "processing /home/easton/Data/lineStrokes_demo/a02/a02-125/a02-125z-02.xml\n",
      "processing /home/easton/Data/lineStrokes_demo/a02/a02-125/a02-125z-04.xml\n",
      "processing /home/easton/Data/lineStrokes_demo/a02/a02-125/a02-125z-07.xml\n",
      "processing /home/easton/Data/lineStrokes_demo/a02/a02-125/a02-125z-05.xml\n",
      "processing /home/easton/Data/lineStrokes_demo/a02/a02-135/a02-135z-04.xml\n",
      "processing /home/easton/Data/lineStrokes_demo/a02/a02-135/a02-135z-02.xml\n",
      "processing /home/easton/Data/lineStrokes_demo/a02/a02-135/a02-135z-06.xml\n",
      "processing /home/easton/Data/lineStrokes_demo/a02/a02-135/a02-135z-05.xml\n",
      "processing /home/easton/Data/lineStrokes_demo/a02/a02-135/a02-135z-01.xml\n",
      "processing /home/easton/Data/lineStrokes_demo/a02/a02-135/a02-135z-03.xml\n",
      "processing /home/easton/Data/lineStrokes_demo/a02/a02-062/a02-062-04.xml\n",
      "processing /home/easton/Data/lineStrokes_demo/a02/a02-062/a02-062-02.xml\n",
      "processing /home/easton/Data/lineStrokes_demo/a02/a02-062/a02-062-03.xml\n",
      "processing /home/easton/Data/lineStrokes_demo/a02/a02-062/a02-062-01.xml\n",
      "processing /home/easton/Data/lineStrokes_demo/a02/a02-113/a02-113z-06.xml\n",
      "processing /home/easton/Data/lineStrokes_demo/a02/a02-113/a02-113z-02.xml\n",
      "processing /home/easton/Data/lineStrokes_demo/a02/a02-113/a02-113z-01.xml\n",
      "processing /home/easton/Data/lineStrokes_demo/a02/a02-113/a02-113z-03.xml\n",
      "processing /home/easton/Data/lineStrokes_demo/a02/a02-113/a02-113z-04.xml\n",
      "processing /home/easton/Data/lineStrokes_demo/a02/a02-113/a02-113z-08.xml\n",
      "processing /home/easton/Data/lineStrokes_demo/a02/a02-113/a02-113z-05.xml\n",
      "processing /home/easton/Data/lineStrokes_demo/a02/a02-113/a02-113z-07.xml\n",
      "processing /home/easton/Data/lineStrokes_demo/a02/a02-102/a02-102-01.xml\n",
      "processing /home/easton/Data/lineStrokes_demo/a02/a02-102/a02-102-02.xml\n",
      "processing /home/easton/Data/lineStrokes_demo/a02/a02-102/a02-102-03.xml\n",
      "processing /home/easton/Data/lineStrokes_demo/a02/a02-102/a02-102-06.xml\n",
      "processing /home/easton/Data/lineStrokes_demo/a02/a02-102/a02-102-05.xml\n",
      "processing /home/easton/Data/lineStrokes_demo/a02/a02-102/a02-102-04.xml\n",
      "processing /home/easton/Data/lineStrokes_demo/a02/a02-017/a02-017-06.xml\n",
      "processing /home/easton/Data/lineStrokes_demo/a02/a02-017/a02-017-02.xml\n",
      "processing /home/easton/Data/lineStrokes_demo/a02/a02-017/a02-017-03.xml\n",
      "processing /home/easton/Data/lineStrokes_demo/a02/a02-017/a02-017-04.xml\n",
      "processing /home/easton/Data/lineStrokes_demo/a02/a02-017/a02-017-01.xml\n",
      "processing /home/easton/Data/lineStrokes_demo/a02/a02-017/a02-017-05.xml\n",
      "processing /home/easton/Data/lineStrokes_demo/a02/a02-108/a02-108z-02.xml\n",
      "processing /home/easton/Data/lineStrokes_demo/a02/a02-108/a02-108z-04.xml\n",
      "processing /home/easton/Data/lineStrokes_demo/a02/a02-108/a02-108z-06.xml\n",
      "processing /home/easton/Data/lineStrokes_demo/a02/a02-108/a02-108z-05.xml\n",
      "processing /home/easton/Data/lineStrokes_demo/a02/a02-108/a02-108z-07.xml\n",
      "processing /home/easton/Data/lineStrokes_demo/a02/a02-108/a02-108z-03.xml\n",
      "processing /home/easton/Data/lineStrokes_demo/a02/a02-108/a02-108z-01.xml\n",
      "processing /home/easton/Data/lineStrokes_demo/a02/a02-004/a02-004-01.xml\n",
      "processing /home/easton/Data/lineStrokes_demo/a02/a02-004/a02-004-06.xml\n",
      "processing /home/easton/Data/lineStrokes_demo/a02/a02-004/a02-004-03.xml\n",
      "processing /home/easton/Data/lineStrokes_demo/a02/a02-004/a02-004-02.xml\n",
      "processing /home/easton/Data/lineStrokes_demo/a02/a02-004/a02-004-05.xml\n",
      "processing /home/easton/Data/lineStrokes_demo/a02/a02-004/a02-004-04.xml\n",
      "processing /home/easton/Data/lineStrokes_demo/a02/a02-171/a02-171z-06.xml\n",
      "processing /home/easton/Data/lineStrokes_demo/a02/a02-171/a02-171z-10.xml\n",
      "processing /home/easton/Data/lineStrokes_demo/a02/a02-171/a02-171z-11.xml\n",
      "processing /home/easton/Data/lineStrokes_demo/a02/a02-171/a02-171z-05.xml\n",
      "processing /home/easton/Data/lineStrokes_demo/a02/a02-171/a02-171z-01.xml\n",
      "processing /home/easton/Data/lineStrokes_demo/a02/a02-171/a02-171z-03.xml\n",
      "processing /home/easton/Data/lineStrokes_demo/a02/a02-171/a02-171z-02.xml\n",
      "processing /home/easton/Data/lineStrokes_demo/a02/a02-171/a02-171z-09.xml\n",
      "processing /home/easton/Data/lineStrokes_demo/a02/a02-171/a02-171z-08.xml\n",
      "processing /home/easton/Data/lineStrokes_demo/a02/a02-171/a02-171z-07.xml\n",
      "processing /home/easton/Data/lineStrokes_demo/a02/a02-171/a02-171z-04.xml\n",
      "processing /home/easton/Data/lineStrokes_demo/a02/a02-118/a02-118z-01.xml\n",
      "processing /home/easton/Data/lineStrokes_demo/a02/a02-118/a02-118z-06.xml\n",
      "processing /home/easton/Data/lineStrokes_demo/a02/a02-118/a02-118z-08.xml\n",
      "processing /home/easton/Data/lineStrokes_demo/a02/a02-118/a02-118z-07.xml\n",
      "processing /home/easton/Data/lineStrokes_demo/a02/a02-118/a02-118z-03.xml\n",
      "processing /home/easton/Data/lineStrokes_demo/a02/a02-118/a02-118z-04.xml\n",
      "processing /home/easton/Data/lineStrokes_demo/a02/a02-118/a02-118z-02.xml\n",
      "processing /home/easton/Data/lineStrokes_demo/a02/a02-118/a02-118z-05.xml\n",
      "processing /home/easton/Data/lineStrokes_demo/a02/a02-166/a02-166z-08.xml\n",
      "processing /home/easton/Data/lineStrokes_demo/a02/a02-166/a02-166z-02.xml\n",
      "processing /home/easton/Data/lineStrokes_demo/a02/a02-166/a02-166z-03.xml\n",
      "processing /home/easton/Data/lineStrokes_demo/a02/a02-166/a02-166z-06.xml\n",
      "processing /home/easton/Data/lineStrokes_demo/a02/a02-166/a02-166z-07.xml\n",
      "processing /home/easton/Data/lineStrokes_demo/a02/a02-166/a02-166z-05.xml\n",
      "processing /home/easton/Data/lineStrokes_demo/a02/a02-166/a02-166z-04.xml\n",
      "processing /home/easton/Data/lineStrokes_demo/a02/a02-166/a02-166z-01.xml\n",
      "processing /home/easton/Data/lineStrokes_demo/a02/a02-145/a02-145z-01.xml\n",
      "processing /home/easton/Data/lineStrokes_demo/a02/a02-145/a02-145z-02.xml\n",
      "processing /home/easton/Data/lineStrokes_demo/a02/a02-145/a02-145z-05.xml\n",
      "processing /home/easton/Data/lineStrokes_demo/a02/a02-145/a02-145z-03.xml\n",
      "processing /home/easton/Data/lineStrokes_demo/a02/a02-145/a02-145z-04.xml\n",
      "processing /home/easton/Data/lineStrokes_demo/a02/a02-145/a02-145z-06.xml\n",
      "processing /home/easton/Data/lineStrokes_demo/a02/a02-086/a02-086-05.xml\n",
      "processing /home/easton/Data/lineStrokes_demo/a02/a02-086/a02-086-03.xml\n",
      "processing /home/easton/Data/lineStrokes_demo/a02/a02-086/a02-086-07.xml\n",
      "processing /home/easton/Data/lineStrokes_demo/a02/a02-086/a02-086-01.xml\n",
      "processing /home/easton/Data/lineStrokes_demo/a02/a02-086/a02-086-08.xml\n",
      "processing /home/easton/Data/lineStrokes_demo/a02/a02-086/a02-086-06.xml\n",
      "processing /home/easton/Data/lineStrokes_demo/a02/a02-086/a02-086-04.xml\n",
      "processing /home/easton/Data/lineStrokes_demo/a02/a02-086/a02-086-02.xml\n",
      "processing /home/easton/Data/lineStrokes_demo/a02/a02-086/a02-086-09.xml\n",
      "processing /home/easton/Data/lineStrokes_demo/a02/a02-057/a02-057-01.xml\n",
      "processing /home/easton/Data/lineStrokes_demo/a02/a02-057/a02-057-04.xml\n",
      "processing /home/easton/Data/lineStrokes_demo/a02/a02-057/a02-057-08.xml\n",
      "processing /home/easton/Data/lineStrokes_demo/a02/a02-057/a02-057-02.xml\n",
      "processing /home/easton/Data/lineStrokes_demo/a02/a02-057/a02-057-05.xml\n"
     ]
    },
    {
     "name": "stdout",
     "output_type": "stream",
     "text": [
      "processing /home/easton/Data/lineStrokes_demo/a02/a02-057/a02-057-07.xml\n",
      "processing /home/easton/Data/lineStrokes_demo/a02/a02-057/a02-057-06.xml\n",
      "processing /home/easton/Data/lineStrokes_demo/a02/a02-057/a02-057-03.xml\n",
      "processing /home/easton/Data/lineStrokes_demo/a02/a02-152/a02-152z-05.xml\n",
      "processing /home/easton/Data/lineStrokes_demo/a02/a02-152/a02-152z-02.xml\n",
      "processing /home/easton/Data/lineStrokes_demo/a02/a02-152/a02-152z-01.xml\n",
      "processing /home/easton/Data/lineStrokes_demo/a02/a02-152/a02-152z-08.xml\n",
      "processing /home/easton/Data/lineStrokes_demo/a02/a02-152/a02-152z-03.xml\n",
      "processing /home/easton/Data/lineStrokes_demo/a02/a02-152/a02-152z-04.xml\n",
      "processing /home/easton/Data/lineStrokes_demo/a02/a02-152/a02-152z-07.xml\n",
      "processing /home/easton/Data/lineStrokes_demo/a02/a02-152/a02-152z-06.xml\n",
      "processing /home/easton/Data/lineStrokes_demo/a02/a02-178/a02-178z-07.xml\n",
      "processing /home/easton/Data/lineStrokes_demo/a02/a02-178/a02-178z-01.xml\n",
      "processing /home/easton/Data/lineStrokes_demo/a02/a02-178/a02-178z-05.xml\n",
      "processing /home/easton/Data/lineStrokes_demo/a02/a02-178/a02-178z-04.xml\n",
      "processing /home/easton/Data/lineStrokes_demo/a02/a02-178/a02-178z-06.xml\n",
      "processing /home/easton/Data/lineStrokes_demo/a02/a02-178/a02-178z-02.xml\n",
      "processing /home/easton/Data/lineStrokes_demo/a02/a02-178/a02-178z-03.xml\n",
      "processing /home/easton/Data/lineStrokes_demo/a02/a02-130/a02-130z-01.xml\n",
      "processing /home/easton/Data/lineStrokes_demo/a02/a02-130/a02-130z-05.xml\n",
      "processing /home/easton/Data/lineStrokes_demo/a02/a02-130/a02-130z-03.xml\n",
      "processing /home/easton/Data/lineStrokes_demo/a02/a02-130/a02-130z-06.xml\n",
      "processing /home/easton/Data/lineStrokes_demo/a02/a02-130/a02-130z-02.xml\n",
      "processing /home/easton/Data/lineStrokes_demo/a02/a02-130/a02-130z-08.xml\n",
      "processing /home/easton/Data/lineStrokes_demo/a02/a02-130/a02-130z-04.xml\n",
      "processing /home/easton/Data/lineStrokes_demo/a02/a02-130/a02-130z-07.xml\n",
      "processing /home/easton/Data/lineStrokes_demo/a02/a02-000/a02-000-07.xml\n",
      "processing /home/easton/Data/lineStrokes_demo/a02/a02-000/a02-000-01.xml\n",
      "processing /home/easton/Data/lineStrokes_demo/a02/a02-000/a02-000-05.xml\n",
      "processing /home/easton/Data/lineStrokes_demo/a02/a02-000/a02-000-09.xml\n",
      "processing /home/easton/Data/lineStrokes_demo/a02/a02-000/a02-000-10.xml\n",
      "processing /home/easton/Data/lineStrokes_demo/a02/a02-000/a02-000-03.xml\n",
      "processing /home/easton/Data/lineStrokes_demo/a02/a02-000/a02-000-08.xml\n",
      "processing /home/easton/Data/lineStrokes_demo/a02/a02-000/a02-000-02.xml\n",
      "processing /home/easton/Data/lineStrokes_demo/a02/a02-000/a02-000-06.xml\n",
      "processing /home/easton/Data/lineStrokes_demo/a02/a02-000/a02-000-04.xml\n",
      "processing /home/easton/Data/lineStrokes_demo/a02/a02-158/a02-158z-02.xml\n",
      "processing /home/easton/Data/lineStrokes_demo/a02/a02-158/a02-158z-04.xml\n",
      "processing /home/easton/Data/lineStrokes_demo/a02/a02-158/a02-158z-01.xml\n",
      "processing /home/easton/Data/lineStrokes_demo/a02/a02-158/a02-158z-03.xml\n",
      "processing /home/easton/Data/lineStrokes_demo/a02/a02-158/a02-158z-05.xml\n",
      "processing /home/easton/Data/lineStrokes_demo/a01/a01-023/a01-023z-01.xml\n",
      "processing /home/easton/Data/lineStrokes_demo/a01/a01-023/a01-023w-06.xml\n",
      "processing /home/easton/Data/lineStrokes_demo/a01/a01-023/a01-023z-07.xml\n",
      "processing /home/easton/Data/lineStrokes_demo/a01/a01-023/a01-023w-02.xml\n",
      "processing /home/easton/Data/lineStrokes_demo/a01/a01-023/a01-023w-01.xml\n",
      "processing /home/easton/Data/lineStrokes_demo/a01/a01-023/a01-023z-06.xml\n",
      "processing /home/easton/Data/lineStrokes_demo/a01/a01-023/a01-023z-05.xml\n",
      "processing /home/easton/Data/lineStrokes_demo/a01/a01-023/a01-023z-04.xml\n",
      "processing /home/easton/Data/lineStrokes_demo/a01/a01-023/a01-023z-08.xml\n",
      "processing /home/easton/Data/lineStrokes_demo/a01/a01-023/a01-023w-04.xml\n",
      "processing /home/easton/Data/lineStrokes_demo/a01/a01-023/a01-023w-05.xml\n",
      "processing /home/easton/Data/lineStrokes_demo/a01/a01-023/a01-023w-07.xml\n",
      "processing /home/easton/Data/lineStrokes_demo/a01/a01-023/a01-023w-03.xml\n",
      "processing /home/easton/Data/lineStrokes_demo/a01/a01-023/a01-023z-03.xml\n",
      "processing /home/easton/Data/lineStrokes_demo/a01/a01-023/a01-023z-02.xml\n",
      "processing /home/easton/Data/lineStrokes_demo/a01/a01-073/a01-073z-05.xml\n",
      "processing /home/easton/Data/lineStrokes_demo/a01/a01-073/a01-073z-01.xml\n",
      "processing /home/easton/Data/lineStrokes_demo/a01/a01-073/a01-073z-04.xml\n",
      "processing /home/easton/Data/lineStrokes_demo/a01/a01-073/a01-073z-03.xml\n",
      "processing /home/easton/Data/lineStrokes_demo/a01/a01-073/a01-073z-02.xml\n",
      "processing /home/easton/Data/lineStrokes_demo/a01/a01-037/a01-037z-05.xml\n",
      "processing /home/easton/Data/lineStrokes_demo/a01/a01-037/a01-037z-06.xml\n",
      "processing /home/easton/Data/lineStrokes_demo/a01/a01-037/a01-037z-02.xml\n",
      "processing /home/easton/Data/lineStrokes_demo/a01/a01-037/a01-037z-04.xml\n",
      "processing /home/easton/Data/lineStrokes_demo/a01/a01-037/a01-037z-08.xml\n",
      "processing /home/easton/Data/lineStrokes_demo/a01/a01-037/a01-037z-01.xml\n",
      "processing /home/easton/Data/lineStrokes_demo/a01/a01-037/a01-037z-09.xml\n",
      "processing /home/easton/Data/lineStrokes_demo/a01/a01-037/a01-037z-07.xml\n",
      "processing /home/easton/Data/lineStrokes_demo/a01/a01-037/a01-037z-03.xml\n",
      "processing /home/easton/Data/lineStrokes_demo/a01/a01-000/a01-000u-06.xml\n",
      "processing /home/easton/Data/lineStrokes_demo/a01/a01-000/a01-000u-03.xml\n",
      "processing /home/easton/Data/lineStrokes_demo/a01/a01-000/a01-000u-01.xml\n",
      "processing /home/easton/Data/lineStrokes_demo/a01/a01-000/a01-000u-02.xml\n",
      "processing /home/easton/Data/lineStrokes_demo/a01/a01-000/a01-000u-05.xml\n",
      "processing /home/easton/Data/lineStrokes_demo/a01/a01-000/a01-000u-04.xml\n",
      "processing /home/easton/Data/lineStrokes_demo/a01/a01-013/a01-013z-04.xml\n",
      "processing /home/easton/Data/lineStrokes_demo/a01/a01-013/a01-013z-08.xml\n",
      "processing /home/easton/Data/lineStrokes_demo/a01/a01-013/a01-013w-02.xml\n",
      "processing /home/easton/Data/lineStrokes_demo/a01/a01-013/a01-013w-01.xml\n",
      "processing /home/easton/Data/lineStrokes_demo/a01/a01-013/a01-013w-04.xml\n",
      "processing /home/easton/Data/lineStrokes_demo/a01/a01-013/a01-013w-05.xml\n",
      "processing /home/easton/Data/lineStrokes_demo/a01/a01-013/a01-013z-01.xml\n",
      "processing /home/easton/Data/lineStrokes_demo/a01/a01-013/a01-013z-07.xml\n",
      "processing /home/easton/Data/lineStrokes_demo/a01/a01-013/a01-013w-03.xml\n",
      "processing /home/easton/Data/lineStrokes_demo/a01/a01-013/a01-013w-06.xml\n",
      "processing /home/easton/Data/lineStrokes_demo/a01/a01-013/a01-013z-03.xml\n",
      "processing /home/easton/Data/lineStrokes_demo/a01/a01-013/a01-013z-06.xml\n",
      "processing /home/easton/Data/lineStrokes_demo/a01/a01-013/a01-013z-02.xml\n",
      "processing /home/easton/Data/lineStrokes_demo/a01/a01-013/a01-013z-05.xml\n",
      "processing /home/easton/Data/lineStrokes_demo/a01/a01-001/a01-001w-05.xml\n",
      "processing /home/easton/Data/lineStrokes_demo/a01/a01-001/a01-001z-08.xml\n",
      "processing /home/easton/Data/lineStrokes_demo/a01/a01-001/a01-001w-06.xml\n",
      "processing /home/easton/Data/lineStrokes_demo/a01/a01-001/a01-001z-04.xml\n",
      "processing /home/easton/Data/lineStrokes_demo/a01/a01-001/a01-001z-03.xml\n",
      "processing /home/easton/Data/lineStrokes_demo/a01/a01-001/a01-001z-07.xml\n",
      "processing /home/easton/Data/lineStrokes_demo/a01/a01-001/a01-001w-07.xml\n",
      "processing /home/easton/Data/lineStrokes_demo/a01/a01-001/a01-001z-02.xml\n",
      "processing /home/easton/Data/lineStrokes_demo/a01/a01-001/a01-001z-09.xml\n",
      "processing /home/easton/Data/lineStrokes_demo/a01/a01-001/a01-001w-02.xml\n",
      "processing /home/easton/Data/lineStrokes_demo/a01/a01-001/a01-001w-08.xml\n",
      "processing /home/easton/Data/lineStrokes_demo/a01/a01-001/a01-001w-01.xml\n",
      "processing /home/easton/Data/lineStrokes_demo/a01/a01-001/a01-001w-03.xml\n",
      "processing /home/easton/Data/lineStrokes_demo/a01/a01-001/a01-001z-06.xml\n",
      "processing /home/easton/Data/lineStrokes_demo/a01/a01-001/a01-001w-04.xml\n",
      "processing /home/easton/Data/lineStrokes_demo/a01/a01-001/a01-001z-05.xml\n",
      "processing /home/easton/Data/lineStrokes_demo/a01/a01-001/a01-001z-01.xml\n",
      "processing /home/easton/Data/lineStrokes_demo/a01/a01-020/a01-020w-05.xml\n",
      "processing /home/easton/Data/lineStrokes_demo/a01/a01-020/a01-020z-03.xml\n",
      "processing /home/easton/Data/lineStrokes_demo/a01/a01-020/a01-020w-01.xml\n",
      "processing /home/easton/Data/lineStrokes_demo/a01/a01-020/a01-020x-02.xml\n",
      "processing /home/easton/Data/lineStrokes_demo/a01/a01-020/a01-020x-03.xml\n",
      "processing /home/easton/Data/lineStrokes_demo/a01/a01-020/a01-020z-07.xml\n",
      "processing /home/easton/Data/lineStrokes_demo/a01/a01-020/a01-020z-04.xml\n",
      "processing /home/easton/Data/lineStrokes_demo/a01/a01-020/a01-020x-04.xml\n",
      "processing /home/easton/Data/lineStrokes_demo/a01/a01-020/a01-020z-01.xml\n",
      "processing /home/easton/Data/lineStrokes_demo/a01/a01-020/a01-020z-06.xml\n",
      "processing /home/easton/Data/lineStrokes_demo/a01/a01-020/a01-020z-02.xml\n",
      "processing /home/easton/Data/lineStrokes_demo/a01/a01-020/a01-020z-08.xml\n",
      "processing /home/easton/Data/lineStrokes_demo/a01/a01-020/a01-020x-05.xml\n",
      "processing /home/easton/Data/lineStrokes_demo/a01/a01-020/a01-020w-06.xml\n",
      "processing /home/easton/Data/lineStrokes_demo/a01/a01-020/a01-020w-03.xml\n",
      "processing /home/easton/Data/lineStrokes_demo/a01/a01-020/a01-020w-02.xml\n",
      "processing /home/easton/Data/lineStrokes_demo/a01/a01-020/a01-020w-04.xml\n",
      "processing /home/easton/Data/lineStrokes_demo/a01/a01-020/a01-020x-06.xml\n",
      "processing /home/easton/Data/lineStrokes_demo/a01/a01-020/a01-020z-09.xml\n",
      "processing /home/easton/Data/lineStrokes_demo/a01/a01-020/a01-020z-05.xml\n"
     ]
    },
    {
     "name": "stdout",
     "output_type": "stream",
     "text": [
      "processing /home/easton/Data/lineStrokes_demo/a01/a01-020/a01-020x-01.xml\n",
      "processing /home/easton/Data/lineStrokes_demo/a01/a01-009/a01-009w-02.xml\n",
      "processing /home/easton/Data/lineStrokes_demo/a01/a01-009/a01-009w-06.xml\n",
      "processing /home/easton/Data/lineStrokes_demo/a01/a01-009/a01-009w-01.xml\n",
      "processing /home/easton/Data/lineStrokes_demo/a01/a01-009/a01-009w-04.xml\n",
      "processing /home/easton/Data/lineStrokes_demo/a01/a01-009/a01-009w-03.xml\n",
      "processing /home/easton/Data/lineStrokes_demo/a01/a01-009/a01-009w-07.xml\n",
      "processing /home/easton/Data/lineStrokes_demo/a01/a01-009/a01-009w-05.xml\n",
      "processing /home/easton/Data/lineStrokes_demo/a01/a01-017/a01-017w-05.xml\n",
      "processing /home/easton/Data/lineStrokes_demo/a01/a01-017/a01-017w-04.xml\n",
      "processing /home/easton/Data/lineStrokes_demo/a01/a01-017/a01-017w-02.xml\n",
      "processing /home/easton/Data/lineStrokes_demo/a01/a01-017/a01-017w-01.xml\n",
      "processing /home/easton/Data/lineStrokes_demo/a01/a01-017/a01-017w-03.xml\n",
      "processing /home/easton/Data/lineStrokes_demo/a01/a01-048/a01-048z-08.xml\n",
      "processing /home/easton/Data/lineStrokes_demo/a01/a01-048/a01-048z-09.xml\n",
      "processing /home/easton/Data/lineStrokes_demo/a01/a01-048/a01-048z-01.xml\n",
      "processing /home/easton/Data/lineStrokes_demo/a01/a01-048/a01-048z-06.xml\n",
      "processing /home/easton/Data/lineStrokes_demo/a01/a01-048/a01-048z-04.xml\n",
      "processing /home/easton/Data/lineStrokes_demo/a01/a01-048/a01-048z-02.xml\n",
      "processing /home/easton/Data/lineStrokes_demo/a01/a01-048/a01-048z-07.xml\n",
      "processing /home/easton/Data/lineStrokes_demo/a01/a01-048/a01-048z-05.xml\n",
      "processing /home/easton/Data/lineStrokes_demo/a01/a01-048/a01-048z-03.xml\n",
      "processing /home/easton/Data/lineStrokes_demo/a01/a01-038/a01-038x-04.xml\n",
      "processing /home/easton/Data/lineStrokes_demo/a01/a01-038/a01-038x-01.xml\n",
      "processing /home/easton/Data/lineStrokes_demo/a01/a01-038/a01-038x-06.xml\n",
      "processing /home/easton/Data/lineStrokes_demo/a01/a01-038/a01-038x-05.xml\n",
      "processing /home/easton/Data/lineStrokes_demo/a01/a01-038/a01-038x-07.xml\n",
      "processing /home/easton/Data/lineStrokes_demo/a01/a01-038/a01-038x-03.xml\n",
      "processing /home/easton/Data/lineStrokes_demo/a01/a01-038/a01-038x-08.xml\n",
      "processing /home/easton/Data/lineStrokes_demo/a01/a01-038/a01-038x-02.xml\n",
      "processing /home/easton/Data/lineStrokes_demo/a01/a01-004/a01-004w-05.xml\n",
      "processing /home/easton/Data/lineStrokes_demo/a01/a01-004/a01-004w-03.xml\n",
      "processing /home/easton/Data/lineStrokes_demo/a01/a01-004/a01-004w-02.xml\n",
      "processing /home/easton/Data/lineStrokes_demo/a01/a01-004/a01-004w-07.xml\n",
      "processing /home/easton/Data/lineStrokes_demo/a01/a01-004/a01-004w-06.xml\n",
      "processing /home/easton/Data/lineStrokes_demo/a01/a01-004/a01-004w-08.xml\n",
      "processing /home/easton/Data/lineStrokes_demo/a01/a01-004/a01-004w-01.xml\n",
      "processing /home/easton/Data/lineStrokes_demo/a01/a01-004/a01-004w-04.xml\n",
      "processing /home/easton/Data/lineStrokes_demo/a01/a01-067/a01-067z-05.xml\n",
      "processing /home/easton/Data/lineStrokes_demo/a01/a01-067/a01-067z-02.xml\n",
      "processing /home/easton/Data/lineStrokes_demo/a01/a01-067/a01-067z-07.xml\n",
      "processing /home/easton/Data/lineStrokes_demo/a01/a01-067/a01-067z-01.xml\n",
      "processing /home/easton/Data/lineStrokes_demo/a01/a01-067/a01-067z-04.xml\n",
      "processing /home/easton/Data/lineStrokes_demo/a01/a01-067/a01-067z-03.xml\n",
      "processing /home/easton/Data/lineStrokes_demo/a01/a01-067/a01-067z-06.xml\n",
      "processing /home/easton/Data/lineStrokes_demo/a01/a01-053/a01-053-03.xml\n",
      "processing /home/easton/Data/lineStrokes_demo/a01/a01-053/a01-053-02.xml\n",
      "processing /home/easton/Data/lineStrokes_demo/a01/a01-053/a01-053z-05.xml\n",
      "processing /home/easton/Data/lineStrokes_demo/a01/a01-053/a01-053x-03.xml\n",
      "processing /home/easton/Data/lineStrokes_demo/a01/a01-053/a01-053x-04.xml\n",
      "processing /home/easton/Data/lineStrokes_demo/a01/a01-053/a01-053z-02.xml\n",
      "processing /home/easton/Data/lineStrokes_demo/a01/a01-053/a01-053x-01.xml\n",
      "processing /home/easton/Data/lineStrokes_demo/a01/a01-053/a01-053z-07.xml\n",
      "processing /home/easton/Data/lineStrokes_demo/a01/a01-053/a01-053z-04.xml\n",
      "processing /home/easton/Data/lineStrokes_demo/a01/a01-053/a01-053z-06.xml\n",
      "processing /home/easton/Data/lineStrokes_demo/a01/a01-053/a01-053-05.xml\n",
      "processing /home/easton/Data/lineStrokes_demo/a01/a01-053/a01-053x-02.xml\n",
      "processing /home/easton/Data/lineStrokes_demo/a01/a01-053/a01-053z-03.xml\n",
      "processing /home/easton/Data/lineStrokes_demo/a01/a01-053/a01-053x-07.xml\n",
      "processing /home/easton/Data/lineStrokes_demo/a01/a01-053/a01-053x-06.xml\n",
      "processing /home/easton/Data/lineStrokes_demo/a01/a01-053/a01-053-04.xml\n",
      "processing /home/easton/Data/lineStrokes_demo/a01/a01-053/a01-053-01.xml\n",
      "processing /home/easton/Data/lineStrokes_demo/a01/a01-053/a01-053z-01.xml\n",
      "processing /home/easton/Data/lineStrokes_demo/a01/a01-053/a01-053x-05.xml\n",
      "processing /home/easton/Data/lineStrokes_demo/a01/a01-003/a01-003-07.xml\n",
      "processing /home/easton/Data/lineStrokes_demo/a01/a01-003/a01-003-02.xml\n",
      "processing /home/easton/Data/lineStrokes_demo/a01/a01-003/a01-003-06.xml\n",
      "processing /home/easton/Data/lineStrokes_demo/a01/a01-003/a01-003-01.xml\n",
      "processing /home/easton/Data/lineStrokes_demo/a01/a01-003/a01-003-04.xml\n",
      "processing /home/easton/Data/lineStrokes_demo/a01/a01-003/a01-003-03.xml\n",
      "processing /home/easton/Data/lineStrokes_demo/a01/a01-003/a01-003-05.xml\n",
      "processing /home/easton/Data/lineStrokes_demo/a01/a01-087/a01-087-05.xml\n",
      "processing /home/easton/Data/lineStrokes_demo/a01/a01-087/a01-087-02.xml\n",
      "processing /home/easton/Data/lineStrokes_demo/a01/a01-087/a01-087-01.xml\n",
      "processing /home/easton/Data/lineStrokes_demo/a01/a01-087/a01-087-04.xml\n",
      "processing /home/easton/Data/lineStrokes_demo/a01/a01-087/a01-087-03.xml\n",
      "processing /home/easton/Data/lineStrokes_demo/a01/a01-087/a01-087-06.xml\n",
      "processing /home/easton/Data/lineStrokes_demo/a01/a01-090/a01-090z-02.xml\n",
      "processing /home/easton/Data/lineStrokes_demo/a01/a01-090/a01-090z-06.xml\n",
      "processing /home/easton/Data/lineStrokes_demo/a01/a01-090/a01-090z-03.xml\n",
      "processing /home/easton/Data/lineStrokes_demo/a01/a01-090/a01-090z-05.xml\n",
      "processing /home/easton/Data/lineStrokes_demo/a01/a01-090/a01-090z-04.xml\n",
      "processing /home/easton/Data/lineStrokes_demo/a01/a01-090/a01-090z-01.xml\n",
      "processing /home/easton/Data/lineStrokes_demo/a01/a01-058/a01-058z-02.xml\n",
      "processing /home/easton/Data/lineStrokes_demo/a01/a01-058/a01-058z-04.xml\n",
      "processing /home/easton/Data/lineStrokes_demo/a01/a01-058/a01-058z-01.xml\n",
      "processing /home/easton/Data/lineStrokes_demo/a01/a01-058/a01-058z-05.xml\n",
      "processing /home/easton/Data/lineStrokes_demo/a01/a01-058/a01-058z-03.xml\n",
      "processing /home/easton/Data/lineStrokes_demo/a01/a01-007/a01-007z-04.xml\n",
      "processing /home/easton/Data/lineStrokes_demo/a01/a01-007/a01-007z-06.xml\n",
      "processing /home/easton/Data/lineStrokes_demo/a01/a01-007/a01-007w-01.xml\n",
      "processing /home/easton/Data/lineStrokes_demo/a01/a01-007/a01-007z-02.xml\n",
      "processing /home/easton/Data/lineStrokes_demo/a01/a01-007/a01-007z-01.xml\n",
      "processing /home/easton/Data/lineStrokes_demo/a01/a01-007/a01-007w-03.xml\n",
      "processing /home/easton/Data/lineStrokes_demo/a01/a01-007/a01-007w-05.xml\n",
      "processing /home/easton/Data/lineStrokes_demo/a01/a01-007/a01-007w-07.xml\n",
      "processing /home/easton/Data/lineStrokes_demo/a01/a01-007/a01-007w-02.xml\n",
      "processing /home/easton/Data/lineStrokes_demo/a01/a01-007/a01-007z-03.xml\n",
      "processing /home/easton/Data/lineStrokes_demo/a01/a01-007/a01-007z-07.xml\n",
      "processing /home/easton/Data/lineStrokes_demo/a01/a01-007/a01-007w-06.xml\n",
      "processing /home/easton/Data/lineStrokes_demo/a01/a01-007/a01-007w-04.xml\n",
      "processing /home/easton/Data/lineStrokes_demo/a01/a01-007/a01-007z-05.xml\n",
      "processing /home/easton/Data/lineStrokes_demo/a01/a01-132/a01-132-03.xml\n",
      "processing /home/easton/Data/lineStrokes_demo/a01/a01-132/a01-132-01.xml\n",
      "processing /home/easton/Data/lineStrokes_demo/a01/a01-132/a01-132-02.xml\n",
      "processing /home/easton/Data/lineStrokes_demo/a01/a01-132/a01-132-04.xml\n",
      "processing /home/easton/Data/lineStrokes_demo/a01/a01-132/a01-132-05.xml\n",
      "processing /home/easton/Data/lineStrokes_demo/a01/a01-080/a01-080z-09.xml\n",
      "processing /home/easton/Data/lineStrokes_demo/a01/a01-080/a01-080z-06.xml\n",
      "processing /home/easton/Data/lineStrokes_demo/a01/a01-080/a01-080z-01.xml\n",
      "processing /home/easton/Data/lineStrokes_demo/a01/a01-080/a01-080z-10.xml\n",
      "processing /home/easton/Data/lineStrokes_demo/a01/a01-080/a01-080z-07.xml\n",
      "processing /home/easton/Data/lineStrokes_demo/a01/a01-080/a01-080z-02.xml\n",
      "processing /home/easton/Data/lineStrokes_demo/a01/a01-080/a01-080z-08.xml\n",
      "processing /home/easton/Data/lineStrokes_demo/a01/a01-080/a01-080z-04.xml\n",
      "processing /home/easton/Data/lineStrokes_demo/a01/a01-080/a01-080z-03.xml\n",
      "processing /home/easton/Data/lineStrokes_demo/a01/a01-080/a01-080z-05.xml\n",
      "processing /home/easton/Data/lineStrokes_demo/a01/a01-030/a01-030z-01.xml\n",
      "processing /home/easton/Data/lineStrokes_demo/a01/a01-030/a01-030z-02.xml\n",
      "processing /home/easton/Data/lineStrokes_demo/a01/a01-030/a01-030z-03.xml\n",
      "processing /home/easton/Data/lineStrokes_demo/a01/a01-030/a01-030z-06.xml\n",
      "processing /home/easton/Data/lineStrokes_demo/a01/a01-030/a01-030z-07.xml\n",
      "processing /home/easton/Data/lineStrokes_demo/a01/a01-030/a01-030z-08.xml\n",
      "processing /home/easton/Data/lineStrokes_demo/a01/a01-030/a01-030z-09.xml\n",
      "processing /home/easton/Data/lineStrokes_demo/a01/a01-030/a01-030z-05.xml\n",
      "processing /home/easton/Data/lineStrokes_demo/a01/a01-030/a01-030z-04.xml\n",
      "processing /home/easton/Data/lineStrokes_demo/a01/a01-099/a01-099z-04.xml\n",
      "processing /home/easton/Data/lineStrokes_demo/a01/a01-099/a01-099z-07.xml\n",
      "processing /home/easton/Data/lineStrokes_demo/a01/a01-099/a01-099z-06.xml\n",
      "processing /home/easton/Data/lineStrokes_demo/a01/a01-099/a01-099z-02.xml\n",
      "processing /home/easton/Data/lineStrokes_demo/a01/a01-099/a01-099z-03.xml\n",
      "processing /home/easton/Data/lineStrokes_demo/a01/a01-099/a01-099z-01.xml\n",
      "processing /home/easton/Data/lineStrokes_demo/a01/a01-099/a01-099z-05.xml\n",
      "processing /home/easton/Data/lineStrokes_demo/a01/a01-094/a01-094z-06.xml\n",
      "processing /home/easton/Data/lineStrokes_demo/a01/a01-094/a01-094z-05.xml\n",
      "processing /home/easton/Data/lineStrokes_demo/a01/a01-094/a01-094z-04.xml\n",
      "processing /home/easton/Data/lineStrokes_demo/a01/a01-094/a01-094z-02.xml\n"
     ]
    },
    {
     "name": "stdout",
     "output_type": "stream",
     "text": [
      "processing /home/easton/Data/lineStrokes_demo/a01/a01-094/a01-094z-07.xml\n",
      "processing /home/easton/Data/lineStrokes_demo/a01/a01-094/a01-094z-03.xml\n",
      "processing /home/easton/Data/lineStrokes_demo/a01/a01-094/a01-094z-01.xml\n",
      "train data: 369, valid data: 19\n"
     ]
    }
   ],
   "source": [
    "data_loader = DataLoader(10, 20, 1)\n",
    "\n",
    "data_loader.reset_batch_pointer()"
   ]
  },
  {
   "cell_type": "code",
   "execution_count": 20,
   "metadata": {},
   "outputs": [
    {
     "data": {
      "text/plain": [
       "(579, 3)"
      ]
     },
     "execution_count": 20,
     "metadata": {},
     "output_type": "execute_result"
    }
   ],
   "source": [
    "np.shape(data_loader.raw_data[0])"
   ]
  },
  {
   "cell_type": "code",
   "execution_count": 21,
   "metadata": {
    "collapsed": true
   },
   "outputs": [],
   "source": []
  },
  {
   "cell_type": "code",
   "execution_count": 31,
   "metadata": {
    "collapsed": true
   },
   "outputs": [],
   "source": [
    "pos_x =data_loader.raw_data[0][:,0]\n",
    "pos_y =data_loader.raw_data[0][:,1]\n",
    "m =0; n=0\n",
    "a =[];b =[]\n",
    "for x, y in zip(pos_x, pos_y):\n",
    "    m +=x\n",
    "    n +=y\n",
    "    a.append(m)\n",
    "    b.append(n)"
   ]
  },
  {
   "cell_type": "code",
   "execution_count": 33,
   "metadata": {},
   "outputs": [
    {
     "data": {
      "text/plain": [
       "[<matplotlib.lines.Line2D at 0x7f1071410fd0>]"
      ]
     },
     "execution_count": 33,
     "metadata": {},
     "output_type": "execute_result"
    },
    {
     "data": {
      "image/png": "[encoded data removed]",
      "text/plain": [
       "<matplotlib.figure.Figure at 0x7f1071426630>"
      ]
     },
     "metadata": {},
     "output_type": "display_data"
    }
   ],
   "source": [
    "plt.plot(a, b)"
   ]
  },
  {
   "cell_type": "code",
   "execution_count": 41,
   "metadata": {},
   "outputs": [
    {
     "data": {
      "text/plain": [
       "3"
      ]
     },
     "execution_count": 41,
     "metadata": {},
     "output_type": "execute_result"
    }
   ],
   "source": [
    "a =3\n",
    "a.__radd__(4)\n",
    "a\n",
    "# dir(int)"
   ]
  },
  {
   "cell_type": "code",
   "execution_count": 28,
   "metadata": {},
   "outputs": [
    {
     "data": {
      "text/plain": [
       "[<matplotlib.lines.Line2D at 0x7f107147ad30>]"
      ]
     },
     "execution_count": 28,
     "metadata": {},
     "output_type": "execute_result"
    },
    {
     "data": {
      "image/png": "[encoded data removed]",
      "text/plain": [
       "<matplotlib.figure.Figure at 0x7f1071b0bbe0>"
      ]
     },
     "metadata": {},
     "output_type": "display_data"
    }
   ],
   "source": [
    "plt.plot(x[0][:,0], x[0][:,1])"
   ]
  },
  {
   "cell_type": "markdown",
   "metadata": {
    "collapsed": true
   },
   "source": [
    "# 8.16"
   ]
  },
  {
   "cell_type": "code",
   "execution_count": 17,
   "metadata": {},
   "outputs": [
    {
     "data": {
      "text/plain": [
       "array([[  1.48426692,   2.67099947,  -3.91006759],\n",
       "       [  2.04680995,   8.75639185, -15.03693911]])"
      ]
     },
     "execution_count": 17,
     "metadata": {},
     "output_type": "execute_result"
    }
   ],
   "source": [
    "mean = [0, 0]\n",
    "cov = [[10, 30], [30, 100]]  \n",
    "\n",
    "x = np.random.multivariate_normal(mean, cov, 3).T\n",
    "x\n",
    "# plt.plot(x[0][0], x[0][1], '.')\n",
    "# plt.axis('equal')\n",
    "# plt.show()"
   ]
  },
  {
   "cell_type": "code",
   "execution_count": 25,
   "metadata": {},
   "outputs": [
    {
     "data": {
      "image/svg+xml": [
       "<svg baseProfile=\"full\" height=\"100%\" version=\"1.1\" width=\"100%\" xmlns=\"http://www.w3.org/2000/svg\" xmlns:ev=\"http://www.w3.org/2001/xml-events\" xmlns:xlink=\"http://www.w3.org/1999/xlink\"><defs/><a target=\"_blank\" xlink:href=\"http://link.to/internet\"><rect fill=\"green\" height=\"1\" width=\"1\" x=\"0\" y=\"0\"/></a></svg>"
      ],
      "text/plain": [
       "<IPython.core.display.SVG object>"
      ]
     },
     "metadata": {},
     "output_type": "display_data"
    }
   ],
   "source": [
    "import svgwrite\n",
    "from IPython.display import SVG, display\n",
    "\n",
    "dwg = svgwrite.Drawing()\n",
    "link = dwg.add(dwg.a(\"http://link.to/internet\"))\n",
    "square = link.add(dwg.rect((0, 0), (1, 1), fill='green'))\n",
    "display(SVG(dwg.tostring()))"
   ]
  },
  {
   "cell_type": "code",
   "execution_count": 5,
   "metadata": {},
   "outputs": [],
   "source": [
    "a =np.arange(10)\n",
    "b =[1,2,34]\n",
    "with open(os.path.join('svg', 'strokes.pkl'), 'wb') as f:\n",
    "    pickle.dump((a, b), f)"
   ]
  },
  {
   "cell_type": "code",
   "execution_count": 21,
   "metadata": {},
   "outputs": [],
   "source": []
  },
  {
   "cell_type": "code",
   "execution_count": 22,
   "metadata": {},
   "outputs": [
    {
     "data": {
      "text/plain": [
       "[<matplotlib.lines.Line2D at 0x7f94e82715f8>]"
      ]
     },
     "execution_count": 22,
     "metadata": {},
     "output_type": "execute_result"
    },
    {
     "data": {
      "image/png": "[encoded data removed]",
      "text/plain": [
       "<matplotlib.figure.Figure at 0x7f94e8019a90>"
      ]
     },
     "metadata": {},
     "output_type": "display_data"
    }
   ],
   "source": [
    "with open('strokes.pkl', 'rb') as f:\n",
    "    m, n=pickle.load(f)\n",
    "pos_x =m[:,0]\n",
    "pos_y =m[:,1]\n",
    "m =0; n=0\n",
    "a =[];b =[]\n",
    "for x, y in zip(pos_x, pos_y):\n",
    "    m +=x\n",
    "    n +=y\n",
    "    a.append(m)\n",
    "    b.append(n)\n",
    "plt.plot(a, b)"
   ]
  },
  {
   "cell_type": "code",
   "execution_count": 18,
   "metadata": {},
   "outputs": [
    {
     "data": {
      "text/plain": [
       "array([ 0.,  0.,  0.,  0.,  0.,  0.,  0.,  0.,  0.,  0.,  0.,  0.,  0.,\n",
       "        0.,  0.,  0.,  0.,  0.,  0.,  0.,  0.,  0.,  0.,  0.,  0.,  0.,\n",
       "        0.,  0.,  0.,  0.,  0.,  0.,  0.,  0.,  0.,  0.,  0.,  0.,  0.,\n",
       "        0.,  0.,  0.,  0.,  0.,  0.,  0.,  0.,  0.,  0.,  0.,  0.,  0.,\n",
       "        0.,  0.,  0.,  0.,  0.,  0.,  0.,  0.,  0.,  0.,  0.,  0.,  0.,\n",
       "        0.,  0.,  0.,  0.,  0.,  0.,  0.,  0.,  1.,  0.,  0.,  0.,  0.,\n",
       "        0.,  0.,  0.,  0.,  0.,  0.,  0.,  0.,  0.,  0.,  0.,  0.,  0.,\n",
       "        0.,  0.,  0.,  0.,  0.,  0.,  0.,  0.,  0.,  0.,  0.,  0.,  0.,\n",
       "        0.,  0.,  0.,  0.,  0.,  0.,  0.,  0.,  0.,  0.,  0.,  0.,  0.,\n",
       "        0.,  0.,  0.,  0.,  0.,  0.,  0.,  0.,  0.,  0.,  0.,  0.,  0.,\n",
       "        0.,  0.,  0.,  0.,  0.,  0.,  0.,  0.,  0.,  0.,  0.,  0.,  0.,\n",
       "        0.,  0.,  0.,  0.,  0.,  0.,  0.,  0.,  0.,  0.,  0.,  0.,  0.,\n",
       "        0.,  0.,  0.,  0.,  0.,  0.,  0.,  0.,  0.,  0.,  0.,  0.,  0.,\n",
       "        0.,  0.,  0.,  0.,  0.,  0.,  0.,  0.,  0.,  0.,  0.,  0.,  0.,\n",
       "        0.,  0.,  0.,  0.,  0.,  0.,  1.,  0.,  0.,  0.,  0.,  0.,  0.,\n",
       "        0.,  0.,  0.,  0.,  0.,  0.,  0.,  0.,  0.,  0.,  0.,  0.,  0.,\n",
       "        0.,  0.,  0.,  0.,  0.,  0.,  0.,  0.,  0.,  0.,  0.,  0.,  0.,\n",
       "        0.,  0.,  0.,  0.,  0.,  0.,  0.,  0.,  0.,  0.,  0.,  0.,  0.,\n",
       "        0.,  0.,  0.,  1.,  0.,  0.,  0.,  0.,  0.,  0.,  0.,  0.,  0.,\n",
       "        0.,  0.,  0.,  0.,  0.,  0.,  0.,  0.,  0.,  0.,  0.,  0.,  0.,\n",
       "        0.,  0.,  0.,  0.,  0.,  0.,  0.,  0.,  0.,  0.,  0.,  0.,  0.,\n",
       "        0.,  0.,  0.,  0.,  0.,  0.,  0.,  0.,  0.,  0.,  0.,  0.,  0.,\n",
       "        0.,  0.,  0.,  0.,  0.,  0.,  0.,  0.,  0.,  0.,  0.,  0.,  0.,\n",
       "        0.,  0.,  0.,  0.,  0.,  0.,  0.,  0.,  0.,  0.,  0.,  0.,  0.,\n",
       "        0.,  0.,  0.,  0.,  0.,  0.,  0.,  0.,  0.,  0.,  0.,  0.,  0.,\n",
       "        0.,  0.,  0.,  0.,  0.,  0.,  0.,  0.,  0.,  0.,  0.,  0.,  0.,\n",
       "        0.,  0.,  0.,  0.,  0.,  0.,  0.,  0.,  0.,  0.,  0.,  0.,  0.,\n",
       "        0.,  0.,  0.,  0.,  0.,  0.,  0.,  0.,  0.,  0.,  0.,  1.,  0.,\n",
       "        0.,  0.,  0.,  0.,  0.,  0.,  0.,  0.,  0.,  0.,  0.,  0.,  0.,\n",
       "        0.,  0.,  0.,  0.,  0.,  0.,  0.,  0.,  0.,  0.,  0.,  0.,  0.,\n",
       "        0.,  0.,  0.,  0.,  0.,  0.,  0.,  0.,  0.,  0.,  0.,  0.,  0.,\n",
       "        0.,  0.,  0.,  0.,  0.,  0.,  0.,  0.,  0.,  0.,  0.,  0.,  0.,\n",
       "        0.,  0.,  0.,  0.,  0.,  0.,  0.,  0.,  0.,  0.,  0.,  0.,  0.,\n",
       "        0.,  0.,  0.,  0.,  0.,  0.,  0.,  0.,  0.,  0.,  0.,  0.,  0.,\n",
       "        0.,  0.,  0.,  0.,  0.,  0.,  0.,  0.,  0.,  0.,  0.,  0.,  0.,\n",
       "        0.,  0.,  0.,  0.,  0.,  0.,  0.,  0.,  0.,  0.,  0.,  0.,  0.,\n",
       "        0.,  0.,  0.,  0.,  0.,  0.,  0.,  0.,  0.,  0.,  0.,  1.,  0.,\n",
       "        0.,  0.,  0.,  0.,  0.,  0.,  0.,  0.,  0.,  0.,  0.,  0.,  0.,\n",
       "        0.,  0.,  0.,  0.,  0.,  0.,  0.,  0.,  0.,  0.,  0.,  0.,  0.,\n",
       "        0.,  0.,  0.,  0.,  0.,  0.,  0.,  0.,  0.,  0.,  0.,  0.,  0.,\n",
       "        0.,  0.,  0.,  0.,  0.,  0.,  0.,  0.,  0.,  0.,  0.,  0.,  0.,\n",
       "        0.,  0.,  0.,  0.,  0.,  0.,  0.,  0.,  0.,  0.,  0.,  0.,  0.,\n",
       "        0.,  0.,  0.,  0.,  0.,  0.,  0.,  0.,  0.,  0.,  0.,  0.,  0.,\n",
       "        0.,  0.,  0.,  0.,  0.,  0.,  0.,  0.,  0.,  0.,  0.,  0.,  0.,\n",
       "        0.,  0.,  0.,  0.,  0.,  0.,  0.,  0.,  0.,  0.,  0.,  0.,  0.,\n",
       "        0.,  0.,  0.,  0.,  0.,  0.,  0.,  0.,  0.,  0.,  0.,  0.,  0.,\n",
       "        0.,  0.,  0.,  0.,  0.,  0.,  0.,  0.,  0.,  0.,  0.,  0.,  0.,\n",
       "        0.,  0.,  0.,  0.,  0.,  0.,  0.,  0.,  0.,  0.,  0.,  0.,  0.,\n",
       "        0.,  0.,  0.,  0.,  0.,  0.,  0.,  0.,  0.,  0.,  0.,  0.,  0.,\n",
       "        0.,  0.,  0.,  0.,  0.,  0.,  0.,  0.,  0.,  0.,  0.,  0.,  0.,\n",
       "        0.,  0.,  0.,  0.,  0.,  0.,  0.,  0.,  0.,  0.,  0.,  0.,  0.,\n",
       "        0.,  0.,  0.,  0.,  0.,  0.,  0.,  0.,  0.,  0.,  0.,  0.,  0.,\n",
       "        0.,  0.,  0.,  0.,  0.,  0.,  0.,  0.,  0.,  0.,  0.,  0.,  0.,\n",
       "        0.,  0.,  0.,  0.,  0.,  0.,  0.,  0.,  0.,  0.,  0.,  0.,  0.,\n",
       "        0.,  0.,  0.,  0.,  0.,  0.,  0.,  0.,  0.,  0.,  0.,  0.,  0.,\n",
       "        0.,  0.,  0.,  0.,  0.,  0.,  0.,  0.,  0.,  0.,  0.,  0.,  0.,\n",
       "        0.,  0.,  0.,  0.,  0.,  0.,  0.,  0.,  0.,  0.,  0.,  0.,  0.,\n",
       "        0.,  0.,  0.,  0.,  0.,  0.,  0.,  0.,  0.,  0.,  0.,  0.,  0.,\n",
       "        0.,  0.,  0.,  0.,  0.,  0.,  0.,  0.,  0.,  0.,  0.,  0.,  0.,\n",
       "        0.,  0.,  0.,  0.,  0.,  0.,  0.,  0.,  0.,  0.,  0.,  0.,  0.,\n",
       "        0.,  0.,  0.,  0.,  0.,  0.,  0.,  0.,  0.,  0.,  0.,  0.,  0.,\n",
       "        0.,  0.,  0.,  0.,  0.,  0.,  0.], dtype=float32)"
      ]
     },
     "execution_count": 18,
     "metadata": {},
     "output_type": "execute_result"
    }
   ],
   "source": [
    "m[:, 2]"
   ]
  },
  {
   "cell_type": "code",
   "execution_count": 26,
   "metadata": {},
   "outputs": [
    {
     "ename": "AssertionError",
     "evalue": "",
     "output_type": "error",
     "traceback": [
      "\u001b[0;31m---------------------------------------------------------------------------\u001b[0m",
      "\u001b[0;31mAssertionError\u001b[0m                            Traceback (most recent call last)",
      "\u001b[0;32m<ipython-input-26-f45e62cda84f>\u001b[0m in \u001b[0;36m<module>\u001b[0;34m()\u001b[0m\n\u001b[1;32m      1\u001b[0m \u001b[0mm\u001b[0m \u001b[0;34m=\u001b[0m\u001b[0;34m'1.1.3'\u001b[0m\u001b[0;34m\u001b[0m\u001b[0m\n\u001b[0;32m----> 2\u001b[0;31m \u001b[0;32massert\u001b[0m \u001b[0mm\u001b[0m\u001b[0;34m.\u001b[0m\u001b[0mstartswith\u001b[0m\u001b[0;34m(\u001b[0m\u001b[0;34m'1.2'\u001b[0m\u001b[0;34m)\u001b[0m\u001b[0;34m\u001b[0m\u001b[0m\n\u001b[0m",
      "\u001b[0;31mAssertionError\u001b[0m: "
     ]
    }
   ],
   "source": [
    "m ='1.1.3'\n",
    "assert m.startswith('1.2')"
   ]
  },
  {
   "cell_type": "code",
   "execution_count": 23,
   "metadata": {},
   "outputs": [
    {
     "data": {
      "text/plain": [
       "['__add__',\n",
       " '__class__',\n",
       " '__contains__',\n",
       " '__delattr__',\n",
       " '__dir__',\n",
       " '__doc__',\n",
       " '__eq__',\n",
       " '__format__',\n",
       " '__ge__',\n",
       " '__getattribute__',\n",
       " '__getitem__',\n",
       " '__getnewargs__',\n",
       " '__gt__',\n",
       " '__hash__',\n",
       " '__init__',\n",
       " '__iter__',\n",
       " '__le__',\n",
       " '__len__',\n",
       " '__lt__',\n",
       " '__mod__',\n",
       " '__mul__',\n",
       " '__ne__',\n",
       " '__new__',\n",
       " '__reduce__',\n",
       " '__reduce_ex__',\n",
       " '__repr__',\n",
       " '__rmod__',\n",
       " '__rmul__',\n",
       " '__setattr__',\n",
       " '__sizeof__',\n",
       " '__str__',\n",
       " '__subclasshook__',\n",
       " 'capitalize',\n",
       " 'casefold',\n",
       " 'center',\n",
       " 'count',\n",
       " 'encode',\n",
       " 'endswith',\n",
       " 'expandtabs',\n",
       " 'find',\n",
       " 'format',\n",
       " 'format_map',\n",
       " 'index',\n",
       " 'isalnum',\n",
       " 'isalpha',\n",
       " 'isdecimal',\n",
       " 'isdigit',\n",
       " 'isidentifier',\n",
       " 'islower',\n",
       " 'isnumeric',\n",
       " 'isprintable',\n",
       " 'isspace',\n",
       " 'istitle',\n",
       " 'isupper',\n",
       " 'join',\n",
       " 'ljust',\n",
       " 'lower',\n",
       " 'lstrip',\n",
       " 'maketrans',\n",
       " 'partition',\n",
       " 'replace',\n",
       " 'rfind',\n",
       " 'rindex',\n",
       " 'rjust',\n",
       " 'rpartition',\n",
       " 'rsplit',\n",
       " 'rstrip',\n",
       " 'split',\n",
       " 'splitlines',\n",
       " 'startswith',\n",
       " 'strip',\n",
       " 'swapcase',\n",
       " 'title',\n",
       " 'translate',\n",
       " 'upper',\n",
       " 'zfill']"
      ]
     },
     "execution_count": 23,
     "metadata": {},
     "output_type": "execute_result"
    }
   ],
   "source": [
    "dir(str)"
   ]
  },
  {
   "cell_type": "code",
   "execution_count": null,
   "metadata": {
    "collapsed": true
   },
   "outputs": [],
   "source": []
  }
 ],
 "metadata": {
  "kernelspec": {
   "display_name": "Python 3",
   "language": "python",
   "name": "python3"
  },
  "language_info": {
   "codemirror_mode": {
    "name": "ipython",
    "version": 3
   },
   "file_extension": ".py",
   "mimetype": "text/x-python",
   "name": "python",
   "nbconvert_exporter": "python",
   "pygments_lexer": "ipython3",
   "version": "3.5.2+"
  }
 },
 "nbformat": 4,
 "nbformat_minor": 2
}
